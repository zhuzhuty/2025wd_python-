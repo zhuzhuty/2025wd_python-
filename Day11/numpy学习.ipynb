{
 "cells": [
  {
   "metadata": {},
   "cell_type": "markdown",
   "source": "## NumPy的Ndarray对象",
   "id": "142cd5c9ffe26f55"
  },
  {
   "metadata": {},
   "cell_type": "markdown",
   "source": "### ndarray和list性能对比",
   "id": "7b3d32979b9c9fc8"
  },
  {
   "metadata": {
    "ExecuteTime": {
     "end_time": "2025-04-18T09:38:53.216958Z",
     "start_time": "2025-04-18T09:38:29.539333Z"
    }
   },
   "cell_type": "code",
   "outputs": [
    {
     "name": "stdout",
     "output_type": "stream",
     "text": [
      "1.288008689880371 0.11741089820861816\n"
     ]
    }
   ],
   "execution_count": 4,
   "source": [
    "import random\n",
    "import time\n",
    "import numpy as np\n",
    "\n",
    "# ndarray和list的性能对比\n",
    "a=[]\n",
    "for i in range(10**8):\n",
    "    a.append(random.random())\n",
    "t1=time.time()\n",
    "sum1=sum(a)\n",
    "t2=time.time()\n",
    "\n",
    "b=np.array(a)\n",
    "t4=time.time()\n",
    "sum3=np.sum(b) #ndarray求和\n",
    "t5=time.time()\n",
    "\n",
    "print(t2-t1,t5-t4)"
   ],
   "id": "ea47d21ef86488ea"
  },
  {
   "metadata": {},
   "cell_type": "markdown",
   "source": "### 创建一维数组",
   "id": "79862a5e322c5daf"
  },
  {
   "metadata": {},
   "cell_type": "code",
   "outputs": [],
   "execution_count": null,
   "source": [
    "\n",
    "list1 = [1,2,3,4]\n",
    "print(list1)\n",
    "print(type(list1))\n",
    "\n",
    "nplist1=np.array(list1)\n",
    "print(nplist1)\n",
    "print(type(nplist1))\n"
   ],
   "id": "3a19ef05dfbccc02"
  },
  {
   "metadata": {},
   "cell_type": "code",
   "outputs": [],
   "source": [
    "nplist2=np.arange(0,10,2)\n",
    "print(nplist2)\n",
    "print(type(nplist2))\n"
   ],
   "id": "449b10ee1590e39f",
   "execution_count": null
  },
  {
   "metadata": {},
   "cell_type": "markdown",
   "source": "### 创建二维数组",
   "id": "6e4956aa3b049a92"
  },
  {
   "metadata": {
    "ExecuteTime": {
     "end_time": "2025-04-20T09:37:22.704179Z",
     "start_time": "2025-04-20T09:37:22.578368Z"
    }
   },
   "cell_type": "code",
   "source": [
    "import numpy as np\n",
    "list2=[[1,2],[3,4],[5,6]]\n",
    "twoArray=np.array(list2)\n",
    "print(list2)\n",
    "print(twoArray)\n",
    "\n",
    "#twoArray.tolist() #ndarray转换为列表"
   ],
   "id": "a2f06fa3bc50f0e7",
   "outputs": [
    {
     "name": "stdout",
     "output_type": "stream",
     "text": [
      "[[1, 2], [3, 4], [5, 6]]\n",
      "[[1 2]\n",
      " [3 4]\n",
      " [5 6]]\n"
     ]
    }
   ],
   "execution_count": 2
  },
  {
   "metadata": {},
   "cell_type": "markdown",
   "source": "### 常用属性",
   "id": "6eab24357c23438e"
  },
  {
   "metadata": {
    "ExecuteTime": {
     "end_time": "2025-04-20T09:37:28.361709Z",
     "start_time": "2025-04-20T09:37:28.356786Z"
    }
   },
   "cell_type": "code",
   "source": [
    "#获取数组的维度\n",
    "print(twoArray.ndim)\n",
    "\n",
    "#形状（行，列）(0 axis, 1 axis)\n",
    "print(twoArray.shape)\n",
    "\n",
    "#元素个数\n",
    "print(twoArray.size)"
   ],
   "id": "1fd01f12f3668f26",
   "outputs": [
    {
     "name": "stdout",
     "output_type": "stream",
     "text": [
      "2\n",
      "(3, 2)\n",
      "6\n"
     ]
    }
   ],
   "execution_count": 3
  },
  {
   "metadata": {},
   "cell_type": "markdown",
   "source": "### 调整数组形状",
   "id": "82e440699f732947"
  },
  {
   "metadata": {
    "ExecuteTime": {
     "end_time": "2025-04-21T09:41:08.086746Z",
     "start_time": "2025-04-21T09:41:08.057789Z"
    }
   },
   "cell_type": "code",
   "source": [
    "import numpy as np\n",
    "nplist2 = np.array([[1, 2, 3], [4, 5, 6]])\n",
    "\n",
    "nplist2 = nplist2.reshape(3, 2)\n",
    "print(nplist2)\n"
   ],
   "id": "7472331e2cd14ed9",
   "outputs": [
    {
     "name": "stdout",
     "output_type": "stream",
     "text": [
      "[[1 2]\n",
      " [3 4]\n",
      " [5 6]]\n"
     ]
    }
   ],
   "execution_count": 7
  },
  {
   "metadata": {
    "ExecuteTime": {
     "end_time": "2025-04-21T09:41:10.219952Z",
     "start_time": "2025-04-21T09:41:10.212438Z"
    }
   },
   "cell_type": "code",
   "source": [
    "nplist3=nplist2.reshape((6,),order='F') #'C'以行为主展开  ‘F’以列为主展开 如果是（6，1）结果不为一维数组\n",
    "nplist4=nplist2.flatten() #将多维数组转换为一维数组\n",
    "print(nplist3)\n",
    "print(nplist4)"
   ],
   "id": "df11f46cca68ecb1",
   "outputs": [
    {
     "name": "stdout",
     "output_type": "stream",
     "text": [
      "[1 3 5 2 4 6]\n",
      "[1 2 3 4 5 6]\n"
     ]
    }
   ],
   "execution_count": 8
  },
  {
   "metadata": {
    "ExecuteTime": {
     "end_time": "2025-04-21T09:43:49.972688Z",
     "start_time": "2025-04-21T09:43:49.968009Z"
    }
   },
   "cell_type": "code",
   "source": [
    "\n",
    "t=np.arange(24)\n",
    "\n",
    "t1=t.reshape(4,6)\n",
    "print(f't1.shape:{t1.shape}')\n",
    "print(f't1:{t1}')\n",
    "print('\\n')\n",
    "\n",
    "t2=t.reshape(2,3,4)\n",
    "print(f't2:{t2}')\n",
    "print(f't2.shape:{t2.shape}')"
   ],
   "id": "36eeac1e86cd7dbc",
   "outputs": [
    {
     "name": "stdout",
     "output_type": "stream",
     "text": [
      "t1.shape:(4, 6)\n",
      "t1:[[ 0  1  2  3  4  5]\n",
      " [ 6  7  8  9 10 11]\n",
      " [12 13 14 15 16 17]\n",
      " [18 19 20 21 22 23]]\n",
      "\n",
      "\n",
      "t2:[[[ 0  1  2  3]\n",
      "  [ 4  5  6  7]\n",
      "  [ 8  9 10 11]]\n",
      "\n",
      " [[12 13 14 15]\n",
      "  [16 17 18 19]\n",
      "  [20 21 22 23]]]\n",
      "t2.shape:(2, 3, 4)\n"
     ]
    }
   ],
   "execution_count": 11
  },
  {
   "metadata": {},
   "cell_type": "markdown",
   "source": "###数组转换列表",
   "id": "3100a9ff2e52b203"
  },
  {
   "metadata": {
    "ExecuteTime": {
     "end_time": "2025-04-21T09:52:18.838319Z",
     "start_time": "2025-04-21T09:52:18.184921Z"
    }
   },
   "cell_type": "code",
   "source": [
    "import numpy as np\n",
    "\n",
    "# 创建一个ndarray数组\n",
    "arr = np.array([[1, 2, 3], [4, 5, 6]])\n",
    "print(\"ndarray数组:\")\n",
    "print(arr)\n",
    "\n",
    "# 使用tolist()方法将ndarray转换为列表\n",
    "list_arr = arr.tolist()\n",
    "print(\"\\n转换后的列表:\")\n",
    "print(list_arr)\n"
   ],
   "id": "93777e3c024b74e7",
   "outputs": [
    {
     "name": "stdout",
     "output_type": "stream",
     "text": [
      "ndarray数组:\n",
      "[[1 2 3]\n",
      " [4 5 6]]\n",
      "\n",
      "转换后的列表:\n",
      "[[1, 2, 3], [4, 5, 6]]\n"
     ]
    }
   ],
   "execution_count": 1
  },
  {
   "metadata": {},
   "cell_type": "markdown",
   "source": "## NumPy的数据类型",
   "id": "78fdaba7f0a1faad"
  },
  {
   "metadata": {
    "ExecuteTime": {
     "end_time": "2025-04-25T10:03:04.516702Z",
     "start_time": "2025-04-25T10:03:03.894933Z"
    }
   },
   "cell_type": "code",
   "source": [
    "import numpy as np\n",
    "\n",
    "f=np.array([1,2,3,4,5],dtype=np.int8) #dtype设置数据类型\n",
    "\n",
    "print(f.itemsize) # itemsize返回每个元素字节数\n",
    "print(f.dtype)\n",
    "\n",
    "# 调整数据类型\n",
    "f1=f.astype(np.int16)\n",
    "print(f1.dtype)"
   ],
   "id": "341ddc10981bfa4f",
   "outputs": [
    {
     "name": "stdout",
     "output_type": "stream",
     "text": [
      "1\n",
      "int8\n"
     ]
    }
   ],
   "execution_count": 1
  },
  {
   "metadata": {},
   "cell_type": "markdown",
   "source": "## 数组的计算",
   "id": "90a2ddd491e3eada"
  },
  {
   "metadata": {},
   "cell_type": "markdown",
   "source": "### 数组和数的计算",
   "id": "61c51d534392dedb"
  },
  {
   "metadata": {
    "ExecuteTime": {
     "end_time": "2025-04-27T10:07:52.216237Z",
     "start_time": "2025-04-27T10:07:51.521021Z"
    }
   },
   "cell_type": "code",
   "source": [
    "import numpy as np\n",
    "\n",
    "# 由于numpy的广播机制，加减乘除的值被广播到所有元素上面\n",
    "\n",
    "t1=np.arange(24).reshape(4,6)\n",
    "print(t1+2)\n",
    "print('-'*20)\n",
    "print(t1-2)\n",
    "print('-'*20)\n",
    "print(t1*2)"
   ],
   "id": "e228118f56787852",
   "outputs": [
    {
     "name": "stdout",
     "output_type": "stream",
     "text": [
      "[[ 2  3  4  5  6  7]\n",
      " [ 8  9 10 11 12 13]\n",
      " [14 15 16 17 18 19]\n",
      " [20 21 22 23 24 25]]\n",
      "--------------------\n",
      "[[-2 -1  0  1  2  3]\n",
      " [ 4  5  6  7  8  9]\n",
      " [10 11 12 13 14 15]\n",
      " [16 17 18 19 20 21]]\n",
      "--------------------\n",
      "[[ 0  2  4  6  8 10]\n",
      " [12 14 16 18 20 22]\n",
      " [24 26 28 30 32 34]\n",
      " [36 38 40 42 44 46]]\n"
     ]
    }
   ],
   "execution_count": 1
  },
  {
   "metadata": {},
   "cell_type": "markdown",
   "source": "### 数组之间的操作",
   "id": "70aa661a81a2a062"
  },
  {
   "metadata": {
    "ExecuteTime": {
     "end_time": "2025-04-27T10:10:52.049970Z",
     "start_time": "2025-04-27T10:10:52.043276Z"
    }
   },
   "cell_type": "code",
   "source": [
    "# shape相同\n",
    "t1=np.arange(0,24).reshape(6,4)\n",
    "t2=np.arange(100,124).reshape(6,4)\n",
    "print(t1)\n",
    "print(t2)\n",
    "print('-'*20)\n",
    "print(t1+t2)\n",
    "\n",
    "\n"
   ],
   "id": "62797fe682ec62f4",
   "outputs": [
    {
     "name": "stdout",
     "output_type": "stream",
     "text": [
      "[[ 0  1  2  3]\n",
      " [ 4  5  6  7]\n",
      " [ 8  9 10 11]\n",
      " [12 13 14 15]\n",
      " [16 17 18 19]\n",
      " [20 21 22 23]]\n",
      "[[100 101 102 103]\n",
      " [104 105 106 107]\n",
      " [108 109 110 111]\n",
      " [112 113 114 115]\n",
      " [116 117 118 119]\n",
      " [120 121 122 123]]\n",
      "--------------------\n",
      "[[100 102 104 106]\n",
      " [108 110 112 114]\n",
      " [116 118 120 122]\n",
      " [124 126 128 130]\n",
      " [132 134 136 138]\n",
      " [140 142 144 146]]\n"
     ]
    }
   ],
   "execution_count": 2
  },
  {
   "metadata": {
    "ExecuteTime": {
     "end_time": "2025-04-27T10:16:13.245282Z",
     "start_time": "2025-04-27T10:16:13.239611Z"
    }
   },
   "cell_type": "code",
   "source": [
    "# 行形状相同\n",
    "t1=np.arange(24).reshape(4,6)\n",
    "t2=np.arange(6)\n",
    "print(t1)\n",
    "print(t2)\n",
    "print('-'*20)\n",
    "print(t1+t2)"
   ],
   "id": "a1341da69b8ea319",
   "outputs": [
    {
     "name": "stdout",
     "output_type": "stream",
     "text": [
      "[[ 0  1  2  3  4  5]\n",
      " [ 6  7  8  9 10 11]\n",
      " [12 13 14 15 16 17]\n",
      " [18 19 20 21 22 23]]\n",
      "[0 1 2 3 4 5]\n",
      "--------------------\n",
      "[[ 0  2  4  6  8 10]\n",
      " [ 6  8 10 12 14 16]\n",
      " [12 14 16 18 20 22]\n",
      " [18 20 22 24 26 28]]\n"
     ]
    }
   ],
   "execution_count": 5
  },
  {
   "metadata": {
    "ExecuteTime": {
     "end_time": "2025-04-27T10:18:23.025083Z",
     "start_time": "2025-04-27T10:18:23.016601Z"
    }
   },
   "cell_type": "code",
   "source": [
    "# 列形状相同\n",
    "t1=np.arange(24).reshape(6,4)\n",
    "t2=np.arange(6).reshape(6,1)\n",
    "print(t1)\n",
    "print(t2)\n",
    "print('-'*20)\n",
    "print(t1+t2)"
   ],
   "id": "633862d18dc61170",
   "outputs": [
    {
     "name": "stdout",
     "output_type": "stream",
     "text": [
      "[[ 0  1  2  3]\n",
      " [ 4  5  6  7]\n",
      " [ 8  9 10 11]\n",
      " [12 13 14 15]\n",
      " [16 17 18 19]\n",
      " [20 21 22 23]]\n",
      "[[0]\n",
      " [1]\n",
      " [2]\n",
      " [3]\n",
      " [4]\n",
      " [5]]\n",
      "--------------------\n",
      "[[ 0  1  2  3]\n",
      " [ 5  6  7  8]\n",
      " [10 11 12 13]\n",
      " [15 16 17 18]\n",
      " [20 21 22 23]\n",
      " [25 26 27 28]]\n"
     ]
    }
   ],
   "execution_count": 7
  },
  {
   "metadata": {},
   "cell_type": "markdown",
   "source": "## 轴运算",
   "id": "2050f08b1fda8ea6"
  },
  {
   "metadata": {
    "ExecuteTime": {
     "end_time": "2025-04-29T09:44:07.959783Z",
     "start_time": "2025-04-29T09:44:07.952680Z"
    }
   },
   "cell_type": "code",
   "source": [
    "import numpy as np\n",
    "a=np.array([[1,2,3],[4,5,6]])\n",
    "print(a)\n",
    "\n",
    "print('-'*20)\n",
    "print(np.sum(a,axis=0))\n",
    "print('-'*20)\n",
    "print(np.sum(a,axis=1))\n",
    "print('-'*20)\n",
    "print(np.sum(a))"
   ],
   "id": "85664d53517bc034",
   "outputs": [
    {
     "name": "stdout",
     "output_type": "stream",
     "text": [
      "[[1 2 3]\n",
      " [4 5 6]]\n",
      "--------------------\n",
      "[5 7 9]\n",
      "--------------------\n",
      "[ 6 15]\n",
      "--------------------\n",
      "21\n"
     ]
    }
   ],
   "execution_count": 5
  },
  {
   "metadata": {
    "ExecuteTime": {
     "end_time": "2025-04-29T09:47:44.366926Z",
     "start_time": "2025-04-29T09:47:44.359880Z"
    }
   },
   "cell_type": "code",
   "source": [
    "a=np.arange(24).reshape(2,3,4)\n",
    "print(a)\n",
    "print('-'*20)\n",
    "b=np.sum(a,axis=0)\n",
    "print(b.shape)\n",
    "print(b)\n",
    "print('-'*20)\n",
    "c=np.sum(a,axis=1)\n",
    "print(c.shape)\n",
    "print(c)\n",
    "print('-'*20)\n",
    "d=np.sum(a,axis=2)\n",
    "print(d.shape)\n",
    "print(d)\n"
   ],
   "id": "d2f65ed3c3d86b25",
   "outputs": [
    {
     "name": "stdout",
     "output_type": "stream",
     "text": [
      "[[[ 0  1  2  3]\n",
      "  [ 4  5  6  7]\n",
      "  [ 8  9 10 11]]\n",
      "\n",
      " [[12 13 14 15]\n",
      "  [16 17 18 19]\n",
      "  [20 21 22 23]]]\n",
      "--------------------\n",
      "(3, 4)\n",
      "[[12 14 16 18]\n",
      " [20 22 24 26]\n",
      " [28 30 32 34]]\n",
      "--------------------\n",
      "(2, 4)\n",
      "[[12 15 18 21]\n",
      " [48 51 54 57]]\n",
      "--------------------\n",
      "(2, 3)\n",
      "[[ 6 22 38]\n",
      " [54 70 86]]\n"
     ]
    }
   ],
   "execution_count": 8
  },
  {
   "metadata": {},
   "cell_type": "markdown",
   "source": "## 数组的索引和切片",
   "id": "61bca6c735f76aa1"
  },
  {
   "metadata": {
    "ExecuteTime": {
     "end_time": "2025-04-30T09:53:15.602695Z",
     "start_time": "2025-04-30T09:53:15.012373Z"
    }
   },
   "cell_type": "code",
   "source": [
    "import numpy as np\n",
    "\n",
    "a = np.arange(10)# 冒号分隔切片参数 start:stop:step 来进行切片操作 print(a[2:7:2])# 从索引 2 开始到索引 7 停止，间隔为 2\n",
    "# 如果只放置一个参数，如 [2]，将返回与该索引相对应的单个元素\n",
    "print(a[2],a)\n",
    "# 如果为 [2:]，表示从该索引开始以后的所有项都将被提取\n",
    "print(a[2:])"
   ],
   "id": "7fdb1516cacc5f0d",
   "outputs": [
    {
     "name": "stdout",
     "output_type": "stream",
     "text": [
      "2 [0 1 2 3 4 5 6 7 8 9]\n",
      "[2 3 4 5 6 7 8 9]\n"
     ]
    }
   ],
   "execution_count": 1
  },
  {
   "metadata": {
    "ExecuteTime": {
     "end_time": "2025-04-30T09:53:33.512689Z",
     "start_time": "2025-04-30T09:53:33.503664Z"
    }
   },
   "cell_type": "code",
   "source": [
    "t1=np.arange(24).reshape(4,6)\n",
    "print(t1)\n",
    "print('-'*20)\n",
    "print(t1[1]) # 取一行(一行代表是一条数据，索引也是从0开始的) print(t1[1,:]) # 取一行\n",
    "print('-'*20)\n",
    "print(t1[1:])# 取连续的多行\n",
    "print('-'*20)\n",
    "print(t1[1:3,:])# 取连续的多行\n",
    "print('-'*20)\n",
    "print(t1[[0,2,3]])# 取不连续的多行\n",
    "print('-'*20)\n",
    "print(t1[[0,2,3],:])# 取不连续的多行\n",
    "print('-'*20)\n",
    "print(t1[:,1])# 取一列\n",
    "print('-'*20)\n",
    "print(t1[:,1:])# 连续的多列\n",
    "print('-'*20)\n",
    "print(t1[:,[0,2,3]])# 取不连续的多列\n",
    "print('-'*20)\n",
    "print(t1[2,3])# # 取某一个值,三行四列\n",
    "print('-'*20)"
   ],
   "id": "3fdecae2cd4c408f",
   "outputs": [
    {
     "name": "stdout",
     "output_type": "stream",
     "text": [
      "[[ 0  1  2  3  4  5]\n",
      " [ 6  7  8  9 10 11]\n",
      " [12 13 14 15 16 17]\n",
      " [18 19 20 21 22 23]]\n",
      "--------------------\n",
      "[ 6  7  8  9 10 11]\n",
      "--------------------\n",
      "[[ 6  7  8  9 10 11]\n",
      " [12 13 14 15 16 17]\n",
      " [18 19 20 21 22 23]]\n",
      "--------------------\n",
      "[[ 6  7  8  9 10 11]\n",
      " [12 13 14 15 16 17]]\n",
      "--------------------\n",
      "[[ 0  1  2  3  4  5]\n",
      " [12 13 14 15 16 17]\n",
      " [18 19 20 21 22 23]]\n",
      "--------------------\n",
      "[[ 0  1  2  3  4  5]\n",
      " [12 13 14 15 16 17]\n",
      " [18 19 20 21 22 23]]\n",
      "--------------------\n",
      "[ 1  7 13 19]\n",
      "--------------------\n",
      "[[ 1  2  3  4  5]\n",
      " [ 7  8  9 10 11]\n",
      " [13 14 15 16 17]\n",
      " [19 20 21 22 23]]\n",
      "--------------------\n",
      "[[ 0  2  3]\n",
      " [ 6  8  9]\n",
      " [12 14 15]\n",
      " [18 20 21]]\n",
      "--------------------\n",
      "15\n",
      "--------------------\n"
     ]
    }
   ],
   "execution_count": 3
  },
  {
   "metadata": {},
   "cell_type": "markdown",
   "source": "## 数组中数值的修改",
   "id": "f581dc3bd65c52d9"
  },
  {
   "metadata": {
    "ExecuteTime": {
     "end_time": "2025-04-30T10:29:30.483787Z",
     "start_time": "2025-04-30T10:29:30.474441Z"
    }
   },
   "cell_type": "code",
   "source": [
    "import numpy as np\n",
    "\n",
    "t = np.arange( 24 ).reshape( 4, 6 )\n",
    "# # 修改某一行的值\n",
    "t[1, :] = 0#\n",
    "# # 修改某一列的值\n",
    "t[:, 1] = 0\n",
    "#\n",
    "# # 修改连续多行\n",
    "t[1:3, :] = 0#\n",
    "# # 修改连续多列\n",
    "t[:, 1:4] = 0#\n",
    "# # 修改多行多列，取第二行到第四行，第三列到第五列\n",
    "# t[1:4,2:5]=0\n",
    "#\n",
    "# # 修改多个不相邻的点\n",
    "# t[[0,1],[0,3]]=0\n",
    "# print(t)\n",
    "# 可以根据条件修改，比如讲小于 10 的值改掉\n",
    "t[t < 10] = 0# print(t)\n",
    "# 使用逻辑判断\n",
    "# np.logical_and & # np.logical_or |\n",
    "# np.logical_not ~\n",
    "t[(t > 2) & (t < 6)] = 0\n",
    "# 与\n",
    "t[(t < 2) | (t > 6)] = 0\n",
    "# 或\n",
    "t[~(t > 6)] = 0\n",
    "# 非\n",
    "# print(t)\n",
    "t=t.clip(10,18)\n",
    "print(t)\n",
    "# # 拓 展\n",
    "# # 三目运算（ np.where(condition, x, y)满足条件(condition)，输出 x，不满足输出y)）\n",
    "score = np.array( [[80, 88], [82, 81], [75, 81]] )\n",
    "result = np.where( score > 80, True, False )\n",
    "print( result )\n"
   ],
   "id": "9cff056c161fd5f",
   "outputs": [
    {
     "name": "stdout",
     "output_type": "stream",
     "text": [
      "[[10 10 10 10 10 10]\n",
      " [10 10 10 10 10 10]\n",
      " [10 10 10 10 10 10]\n",
      " [10 10 10 10 10 10]]\n",
      "[[False  True]\n",
      " [ True  True]\n",
      " [False  True]]\n"
     ]
    }
   ],
   "execution_count": 4
  },
  {
   "metadata": {},
   "cell_type": "markdown",
   "source": "## 数组的添加，删除和去重",
   "id": "53fc6d9a349905fc"
  },
  {
   "metadata": {},
   "cell_type": "markdown",
   "source": "### 数组的添加",
   "id": "eb1958544115b55c"
  },
  {
   "metadata": {
    "ExecuteTime": {
     "end_time": "2025-05-15T09:44:10.663238Z",
     "start_time": "2025-05-15T09:44:09.749132Z"
    }
   },
   "cell_type": "code",
   "source": [
    "# 1. numpy.append 函数在数组的末尾添加值。 追加操作会分配整个数组，并把原来的数组复制到新数组中。\n",
    "# 此外，输入数组的维度必须匹配否则将生成 ValueError。\n",
    "'''\n",
    "参 数 说 明 ：\n",
    "arr： 输 入 数 组\n",
    "values：要向 arr 添加的值，需要和 arr 形状相同（除了要添加的轴）\n",
    "axis：默认为 None。当 axis 无定义时，是横向加成，返回总是为一维数组！当 axis 有定义的\n",
    "时候，分别为 0 和 1 的时候。当\n",
    "axis 有定义的时候，分别为 0 和 1 的时候（列数要相同）。当 axis 为 1 时，数组是加在右边\n",
    "（行数要相同）。\n",
    "'''\n",
    "import numpy as np\n",
    "a=np.array([[1,2,3],[4,5,6]])\n",
    "print('第一个数组')\n",
    "print(a)\n",
    "print('\\n')\n",
    "\n",
    "print('往数组添加元素')\n",
    "print(np.append(a,[7,8,9]))\n",
    "print('\\n')\n",
    "\n",
    "\n",
    "print('往轴0添加元素')\n",
    "print(np.append(a,[[7,8,9]],axis=0)) # axis=0表示添加行\n",
    "print('\\n')\n",
    "\n",
    "print('往轴1添加元素')\n",
    "print(np.append(a,[[5,5,5],[7,8,9]],axis=1)) # axis=1表示添加列"
   ],
   "id": "ab527af11a43d97a",
   "outputs": [
    {
     "name": "stdout",
     "output_type": "stream",
     "text": [
      "第一个数组\n",
      "[[1 2 3]\n",
      " [4 5 6]]\n",
      "\n",
      "\n",
      "往数组添加元素\n",
      "[1 2 3 4 5 6 7 8 9]\n",
      "\n",
      "\n",
      "往轴0添加元素\n",
      "[[1 2 3]\n",
      " [4 5 6]\n",
      " [7 8 9]]\n",
      "\n",
      "\n",
      "往轴1添加元素\n",
      "[[1 2 3 5 5 5]\n",
      " [4 5 6 7 8 9]]\n"
     ]
    }
   ],
   "execution_count": 2
  },
  {
   "metadata": {
    "ExecuteTime": {
     "end_time": "2025-05-15T09:44:15.697702Z",
     "start_time": "2025-05-15T09:44:15.688986Z"
    }
   },
   "cell_type": "code",
   "source": [
    "# 2. numpy.insert\n",
    "# 函数在给定索引之前，沿给定轴在输入数组中插入值。# 如果值的类型转换为要插入，则它与输入数组不同。\n",
    "# 插入没有原地的，函数会返回一个新数组。 此外，如果未提供轴，则输入数组会被展开。\n",
    "\n",
    "a=np.array([[1,2],[3,4],[5,6]])\n",
    "print('第一个数组')\n",
    "print(a)\n",
    "print('\\n')\n",
    "\n",
    "print('未传递 Axis 参数。 在插入之前输入数组会被展开。')\n",
    "print(np.insert(a, 3, [11, 12]))\n",
    "print('\\n')\n",
    "print('传递了 Axis 参数。 会广播值数组来配输入数组。')\n",
    "print('沿轴 0 广播：')\n",
    "print(np.insert(a, 1, [11], axis=0))\n",
    "print('\\n')\n",
    "print('沿轴 1 广播：')\n",
    "print(np.insert(a, 1, 11, axis=1))\n"
   ],
   "id": "6453cf98957750b0",
   "outputs": [
    {
     "name": "stdout",
     "output_type": "stream",
     "text": [
      "第一个数组\n",
      "[[1 2]\n",
      " [3 4]\n",
      " [5 6]]\n",
      "\n",
      "\n",
      "未传递 Axis 参数。 在插入之前输入数组会被展开。\n",
      "[ 1  2  3 11 12  4  5  6]\n",
      "\n",
      "\n",
      "传递了 Axis 参数。 会广播值数组来配输入数组。\n",
      "沿轴 0 广播：\n",
      "[[ 1  2]\n",
      " [11 11]\n",
      " [ 3  4]\n",
      " [ 5  6]]\n",
      "\n",
      "\n",
      "沿轴 1 广播：\n",
      "[[ 1 11  2]\n",
      " [ 3 11  4]\n",
      " [ 5 11  6]]\n"
     ]
    }
   ],
   "execution_count": 3
  },
  {
   "metadata": {},
   "cell_type": "markdown",
   "source": "### 数组的删除",
   "id": "221e41bcbcb29389"
  },
  {
   "metadata": {
    "ExecuteTime": {
     "end_time": "2025-05-15T09:48:46.490517Z",
     "start_time": "2025-05-15T09:48:46.482744Z"
    }
   },
   "cell_type": "code",
   "source": [
    "#numpy.delete 函数返回从输入数组中删除指定子数组的新数组。 与 insert() 函数的情况一样，\n",
    "# 如果未提供轴参数， 则输入数组将展开。\n",
    "'''\n",
    "参 数 说 明 ：\n",
    "arr： 输 入 数 组\n",
    "obj：可以被切片，整数或者整数数组，表明要从输入数组删除的子数组\n",
    "axis：沿着它删除给定子数组的轴，如果未提供，则输入数组会被展开\n",
    "'''\n",
    "a = np.arange(12).reshape(3,4)\n",
    "print('第一个数组：')\n",
    "print(a)\n",
    "print('\\n')\n",
    "print('未传递 Axis 参数。 在删除之前输入数组会被展开。')\n",
    "print(np.delete(a,5))\n",
    "print('\\n')\n",
    "print('删除第一行：')\n",
    "print(np.delete(a,0,axis = 0))\n",
    "print('\\n')\n",
    "print('删除每一行中的第二列：')\n",
    "print(np.delete(a,1,axis = 1))\n",
    "print('\\n')\n"
   ],
   "id": "22b964fb0944a7e4",
   "outputs": [
    {
     "name": "stdout",
     "output_type": "stream",
     "text": [
      "第一个数组：\n",
      "[[ 0  1  2  3]\n",
      " [ 4  5  6  7]\n",
      " [ 8  9 10 11]]\n",
      "\n",
      "\n",
      "未传递 Axis 参数。 在删除之前输入数组会被展开。\n",
      "[ 0  1  2  3  4  6  7  8  9 10 11]\n",
      "\n",
      "\n",
      "删除第一行：\n",
      "[[ 0  1  2  3]\n",
      " [ 8  9 10 11]]\n",
      "\n",
      "\n",
      "删除每一行中的第二列：\n",
      "[[ 0  2  3]\n",
      " [ 4  6  7]\n",
      " [ 8 10 11]]\n",
      "\n",
      "\n"
     ]
    }
   ],
   "execution_count": 6
  },
  {
   "metadata": {},
   "cell_type": "markdown",
   "source": "### 数组的去重",
   "id": "b49a40ac54566139"
  },
  {
   "metadata": {
    "ExecuteTime": {
     "end_time": "2025-05-15T09:51:48.649472Z",
     "start_time": "2025-05-15T09:51:48.640698Z"
    }
   },
   "cell_type": "code",
   "source": [
    "# numpy.unique 函数用于去除数组中的重复元素。\n",
    "'''\n",
    "arr：输入数组，如果不是一维数组则会展开\n",
    "return_index：如果为 true，返回新列表元素在旧列表中的位置（下标），并以列表形式储\n",
    "return_inverse：如果为 true，返回旧列表元素在新列表中的位置（下标），并以列表形式储\n",
    "return_counts：如果为 true，返回去重数组中的元素在原数组中的出现次数\n",
    "'''\n",
    "a = np.array([5,2,6,2,7,5,6,8,2,9])\n",
    "print ('第一个数组：')\n",
    "print (a)\n",
    "print ('\\n')\n",
    "print ('第一个数组的去重值：')\n",
    "u = np.unique(a)\n",
    "print (u)\n",
    "print ('\\n')\n",
    "print ('去重数组的索引数组：')\n",
    "u,indices = np.unique(a, return_index = True)\n",
    "print (indices)\n",
    "print ('\\n')\n",
    "print ('我们可以看到每个和原数组下标对应的数值：')\n",
    "print (a)\n",
    "print ('去重数组的下标：')\n",
    "u,indices = np.unique(a,return_inverse = True)\n",
    "print (u)\n",
    "print (indices)\n",
    "print ('\\n')\n",
    "print ('返回去重元素的重复数量：')\n",
    "u,indices = np.unique(a,return_counts = True)\n",
    "print (u)\n",
    "print (indices)"
   ],
   "id": "57d53447dce6d88c",
   "outputs": [
    {
     "name": "stdout",
     "output_type": "stream",
     "text": [
      "第一个数组：\n",
      "[5 2 6 2 7 5 6 8 2 9]\n",
      "\n",
      "\n",
      "第一个数组的去重值：\n",
      "[2 5 6 7 8 9]\n",
      "\n",
      "\n",
      "去重数组的索引数组：\n",
      "[1 0 2 4 7 9]\n",
      "\n",
      "\n",
      "我们可以看到每个和原数组下标对应的数值：\n",
      "[5 2 6 2 7 5 6 8 2 9]\n",
      "去重数组的下标：\n",
      "[2 5 6 7 8 9]\n",
      "[1 0 2 0 3 1 2 4 0 5]\n",
      "\n",
      "\n",
      "返回去重元素的重复数量：\n",
      "[2 5 6 7 8 9]\n",
      "[3 2 2 1 1 1]\n"
     ]
    }
   ],
   "execution_count": 7
  },
  {
   "metadata": {},
   "cell_type": "markdown",
   "source": "## numpy的计算（数学函数）",
   "id": "c2c9bab9b3f1bbdf"
  },
  {
   "metadata": {},
   "cell_type": "code",
   "outputs": [],
   "execution_count": null,
   "source": [
    "import numpy as np\n",
    "score = np.array([[80, 88], [82, 81], [75, 81]])\n",
    "print(score)\n",
    "# 1.获取所有数据最大值\n",
    "result = np.max(score)\n",
    "print(f'所有数据最大值：{result}')\n",
    "# 2.获取某一个轴上的最大值\n",
    "result = np.max(score, axis=0)\n",
    "print(f'0轴上的最大值：{result}')\n",
    "result = np.max(score, axis=1)\n",
    "print(f'1轴上的最大值：{result}')\n",
    "# 3.获取所有数据最小值\n",
    "result = np.min(score)\n",
    "print(f'所有数据最小值：{result}')\n",
    "# 4.获取某一个轴上的最小值\n",
    "result = np.min(score, axis=0)\n",
    "print(f'0轴上的最小值：{result}')\n",
    "result = np.min(score, axis=1)\n",
    "print(f'1轴上的最小值：{result}')\n",
    "# 5.数据的比较\n",
    "result = np.maximum( [-2, -1, 0, 1, 2], 0 )\n",
    "# 第一个参数中的每一个数与第二个参数比较返回大的\n",
    "print(result)\n",
    "result = np.minimum( [-2, -1, 0, 1, 2], 0 )\n",
    "# 第一个参数中的每一个数与第二个参数比较返回小的\n",
    "print(result)\n",
    "result = np.maximum( [-2, -1, 0, 1, 2], [1, 2, 3, 4, 5] )\n",
    "print(result)# 接受的两个参数，也可以大小一致;第二个参数只是一个单独的值时，其实是用到了维度的广播机制；\n",
    "# 6.数据的平均值\n",
    "result = np.mean(score)\n",
    "print(f'所有数据的平均值：{result}')\n",
    "result = np.mean(score,axis=0)\n",
    "# 获取某一行或者某一列的平均值\n",
    "print(result)\n",
    "# 7. 求前缀和\n",
    "arr = np.array([[1,2,3], [4,5,6]])\n",
    "print(arr)\n",
    "print(arr.cumsum(0))\n",
    "'''\n",
    "[1, 2, 3]------> |1 |2 |3 |\n",
    "[4, 5, 6]------> |5=1+4 |7=2+5 |9=3+6|\n",
    "'''\n",
    "print(arr.cumsum(1))\n",
    "'''\n",
    "[1, 2, 3]------> |1 |2+1 |3+2+1 |\n",
    "[4, 5, 6]------> |4 |4+5 |4+5+6 |\n",
    "'''\n",
    "# 8. argmin 求最小值索引\n",
    "result = np.argmin(score,axis=0)\n",
    "res=np.min(score,axis=0)\n",
    "#这样我们就可以知道最小的 81 是第二排的，是从前往后遍历的\n",
    "print(result,res)\n",
    "# 9. 求每一列的标准差（这里是总体标准差）\n",
    "# 标准差是一组数据平均值分散程度的一种度量。一个较大的标准差，代表大部分数值和其平均值之间差异较大；\n",
    "# 一个较小的标准差，代表这些数据较接近平均值反应出数据的波动稳定情况，越大表示波动越大，越不稳定。\n",
    "result = np.std(score,axis=0)\n",
    "print(result)\n",
    "# 10. 极 值\n",
    "result = np.ptp(score,axis=None)#就是最大值和最小值的差\n",
    "print(result)\n",
    "# 拓展：方差 var, 协方差 cov, 计算平均值 average, 计算中位数 median\n",
    "\n",
    "'''通用函数：\n",
    "numpy.sqrt(array) 平方根函数\n",
    "numpy.exp(array) e^array[i]的数组\n",
    "numpy.abs/fabs(array) 计算绝对值\n",
    "numpy.square(array) 计算各元素的平方 等于 array 2\n",
    "numpy.log/log10/log2(array) 计算各元素的各种对数\n",
    "numpy.sign(array) 计算各元素正负号\n",
    "numpy.isnan(array) 计算各元素是否为 NaN\n",
    "numpy.isinf(array) 计算各元素是否为 NaN\n",
    "numpy.cos/cosh/sin/sinh/tan/tanh(array) 三角函数\n",
    "numpy.modf(array) 将 array 中值得整数和小数分离，作两个数组返回\n",
    "numpy.ceil(array) 向上取整,也就是取比这个数大的整数\n",
    "numpy.floor(array) 向下取整,也就是取比这个数小的整数\n",
    "numpy.rint(array) 四舍五入\n",
    "numpy.trunc(array) 向 0 取整\n",
    "numpy.cos(array) 正弦值\n",
    "numpy.sin(array) 余弦值\n",
    "numpy.tan(array) 正切值\n",
    "numpy.add(array1,array2) 元素级加法\n",
    "numpy.subtract(array1,array2) 元素级减法\n",
    "numpy.multiply(array1,array2) 元素级乘法\n",
    "numpy.divide(array1,array2) 元素级除法 array1./array2\n",
    "numpy.power(array1,array2) 元素级指数 array1.^array2\n",
    "numpy.maximum/minimum(array1,aray2) 元素级最大值\n",
    "numpy.fmax/fmin(array1,array2) 元素级最大值，忽略 NaN\n",
    "numpy.mod(array1,array2) 元素级求模\n",
    "numpy.copysign(array1,array2) 将第二个数组中值得符号复制给第一个数组中值\n",
    "numpy.greater/greater_equal/less/less_equal/equal/not_equal (array1,array2)\n",
    "元素级比较运算，产生布尔数组\n",
    "numpy.logical_end/logical_or/logic_xor(array1,array2)元素级的真值逻辑运算\n",
    "'''\n"
   ],
   "id": "68000d24b01ccff0"
  },
  {
   "metadata": {},
   "cell_type": "markdown",
   "source": "## 数组的拼接与分割",
   "id": "e3ccca6951104de3"
  },
  {
   "metadata": {},
   "cell_type": "markdown",
   "source": "### 数组的拼接",
   "id": "3c510f90615a15d6"
  },
  {
   "metadata": {
    "ExecuteTime": {
     "end_time": "2025-05-18T09:38:03.819168Z",
     "start_time": "2025-05-18T09:38:03.811873Z"
    }
   },
   "cell_type": "code",
   "source": [
    "import numpy as np\n",
    "# 1. 根据轴连接的数组序列\n",
    "a = np.array([[1,2],[3,4]])\n",
    "b = np.array([[5,6],[7,8]])\n",
    "# 要求 a,b 两个数组的维度相同\n",
    "print ('沿轴 0 连接两个数组：')\n",
    "print (np.concatenate((a,b),axis= 0))\n",
    "print ('\\n')\n",
    "print ('沿轴 1 连接两个数组：')\n",
    "print (np.concatenate((a,b),axis = 1))\n",
    "\n",
    "# 2. 根据轴进行堆叠\n",
    "print ('沿轴 0 堆叠两个数组：')\n",
    "print (np.stack((a,b),axis= 0))\n",
    "print ('\\n')\n",
    "print ('沿轴 1 堆叠两个数组：')\n",
    "print (np.stack((a,b),axis = 1))"
   ],
   "id": "5adc1abad22ee423",
   "outputs": [
    {
     "name": "stdout",
     "output_type": "stream",
     "text": [
      "沿轴 0 连接两个数组：\n",
      "[[1 2]\n",
      " [3 4]\n",
      " [5 6]\n",
      " [7 8]]\n",
      "\n",
      "\n",
      "沿轴 1 连接两个数组：\n",
      "[[1 2 5 6]\n",
      " [3 4 7 8]]\n",
      "沿轴 0 连接两个数组：\n",
      "[[[1 2]\n",
      "  [3 4]]\n",
      "\n",
      " [[5 6]\n",
      "  [7 8]]]\n",
      "\n",
      "\n",
      "沿轴 1 连接两个数组：\n",
      "[[[1 2]\n",
      "  [5 6]]\n",
      "\n",
      " [[3 4]\n",
      "  [7 8]]]\n"
     ]
    }
   ],
   "execution_count": 2
  },
  {
   "metadata": {},
   "cell_type": "markdown",
   "source": "### 分割",
   "id": "e2fc1212266e5eda"
  },
  {
   "metadata": {
    "ExecuteTime": {
     "end_time": "2025-05-18T09:48:49.832986Z",
     "start_time": "2025-05-18T09:48:49.562097Z"
    }
   },
   "cell_type": "code",
   "source": [
    "# 1. 将一个数组分割为多个子数组\n",
    "'''\n",
    "参数说明：\n",
    "ary：被分割的数组\n",
    "indices_or_sections：是一个整数，就用该数平均切分，如果是一个数组，为沿轴切分的位置\n",
    "（左开右闭）\n",
    "axis：沿着哪个维度进行切向，默认为 0，横向切分。为 1 时，纵向切分\n",
    "'''\n",
    "import numpy as np\n",
    "arr = np.arange(9).reshape(3,3)\n",
    "print ('将数组分为三个大小相等的子数组：')\n",
    "b = np.split(arr,3)\n",
    "print (b)\n",
    "# 2.numpy.hsplit 函数用于水平分割数组，通过指定要返回的相同形状的数组数量来拆分原数组。\n",
    "harr = np.floor(10*np.random.random((2, 6)))\n",
    "print ('原 array：')\n",
    "print(harr)\n",
    "print ('拆分后：')\n",
    "print(np.hsplit(harr, 3))\n",
    "# 3.numpy.vsplit 沿着垂直轴分割\n",
    "a = np.arange(16).reshape(4,4)\n",
    "print ('第一个数组：')\n",
    "print (a)\n",
    "print ('\\n')\n",
    "print ('竖直分割：')\n",
    "b = np.vsplit(a,2)\n",
    "print (b)\n"
   ],
   "id": "15fdbbdaa45a2614",
   "outputs": [
    {
     "name": "stdout",
     "output_type": "stream",
     "text": [
      "将数组分为三个大小相等的子数组：\n",
      "[array([[0, 1, 2]]), array([[3, 4, 5]]), array([[6, 7, 8]])]\n",
      "原 array：\n",
      "[[8. 9. 4. 1. 6. 5.]\n",
      " [7. 4. 7. 4. 3. 6.]]\n",
      "拆分后：\n",
      "[array([[8., 9.],\n",
      "       [7., 4.]]), array([[4., 1.],\n",
      "       [7., 4.]]), array([[6., 5.],\n",
      "       [3., 6.]])]\n",
      "第一个数组：\n",
      "[[ 0  1  2  3]\n",
      " [ 4  5  6  7]\n",
      " [ 8  9 10 11]\n",
      " [12 13 14 15]]\n",
      "\n",
      "\n",
      "竖直分割：\n",
      "[array([[0, 1, 2, 3],\n",
      "       [4, 5, 6, 7]]), array([[ 8,  9, 10, 11],\n",
      "       [12, 13, 14, 15]])]\n"
     ]
    }
   ],
   "execution_count": 3
  },
  {
   "metadata": {},
   "cell_type": "markdown",
   "source": "## 数组中nan和inf",
   "id": "e55968776abdf878"
  },
  {
   "metadata": {
    "ExecuteTime": {
     "end_time": "2025-05-19T03:49:04.433993Z",
     "start_time": "2025-05-19T03:49:04.425334Z"
    }
   },
   "cell_type": "code",
   "source": [
    "'''\n",
    "C 语言中表示最大的正整数值是 0x7FFF FFFF，最小的负整数是 0x8000 0000。\n",
    "查阅资料后，发现 inf 表示无穷大，需要使用 float(‘inf’) 函数来转化，那么对应的就有\n",
    "float('-inf') 表示无穷小了。\n",
    "这样你就可以使用任意数来判断和它的关系了。\n",
    "那什么时候会出现 inf 呢？ 比如一个数字除以 0，Python 中会报错，但是 numpy 中会是一个\n",
    "inf\n",
    "或者-inf\n",
    "另外还有 nan，这种写法在 pandans 中常见，表示缺失的数据，所以一般用 nan 来表示。\n",
    "任何与其做运算结果都是 nan（比如零除以零，在 numpy 中）\n",
    "'''\n",
    "import numpy as np\n",
    "\n",
    "# 创建一个 nan 和 inf #\n",
    "a = np.nan\n",
    "b = np.inf\n",
    "print(a,type(a))\n",
    "print(b,type(b))\n",
    "\n",
    "# np.nan!=np.nan\n",
    "print(np.nan==np.nan)\n",
    "\n",
    "# nan和任何值计算都为nan\n",
    "print(np.nan+1)\n",
    "\n",
    "# --判断数组中为 nan 的个数\n",
    "t = np.arange(24,dtype=float).reshape(4,6)\n",
    "# 将三行四列的数改成 nan\n",
    "t[3,4] = np.nan\n",
    "t[2,3] = np.nan\n",
    "print(t)\n",
    "print(t!=t)\n",
    "# 可以使用 np.count_nonzero() 来判断非零的个数\n",
    "print(np.count_nonzero(t))\n",
    "# 并 且 np.nan != np.nan 结果 是 TRUE\n",
    "# 所以我们可以使用这两个结合使用判断 nan 的个数\n",
    "print(np.count_nonzero(t != t))\n",
    "# 将 nan 替换为 0\n",
    "t[np.isnan(t)] = 0\n",
    "print(t)\n",
    "\n"
   ],
   "id": "14bc43b1e761984a",
   "outputs": [
    {
     "name": "stdout",
     "output_type": "stream",
     "text": [
      "nan <class 'float'>\n",
      "inf <class 'float'>\n",
      "False\n",
      "nan\n",
      "[[ 0.  1.  2.  3.  4.  5.]\n",
      " [ 6.  7.  8.  9. 10. 11.]\n",
      " [12. 13. 14. nan 16. 17.]\n",
      " [18. 19. 20. 21. nan 23.]]\n",
      "[[False False False False False False]\n",
      " [False False False False False False]\n",
      " [False False False  True False False]\n",
      " [False False False False  True False]]\n",
      "23\n",
      "2\n",
      "[[ 0.  1.  2.  3.  4.  5.]\n",
      " [ 6.  7.  8.  9. 10. 11.]\n",
      " [12. 13. 14.  0. 16. 17.]\n",
      " [18. 19. 20. 21.  0. 23.]]\n"
     ]
    }
   ],
   "execution_count": 6
  }
 ],
 "metadata": {
  "kernelspec": {
   "display_name": "Python 3",
   "language": "python",
   "name": "python3"
  },
  "language_info": {
   "codemirror_mode": {
    "name": "ipython",
    "version": 2
   },
   "file_extension": ".py",
   "mimetype": "text/x-python",
   "name": "python",
   "nbconvert_exporter": "python",
   "pygments_lexer": "ipython2",
   "version": "2.7.6"
  }
 },
 "nbformat": 4,
 "nbformat_minor": 5
}
